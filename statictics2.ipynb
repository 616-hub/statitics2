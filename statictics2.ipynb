{
  "nbformat": 4,
  "nbformat_minor": 0,
  "metadata": {
    "colab": {
      "provenance": []
    },
    "kernelspec": {
      "name": "python3",
      "display_name": "Python 3"
    },
    "language_info": {
      "name": "python"
    }
  },
  "cells": [
    {
      "cell_type": "code",
      "execution_count": null,
      "metadata": {
        "id": "KTXaoGZcxN2N"
      },
      "outputs": [],
      "source": [
        "#"
      ]
    },
    {
      "cell_type": "markdown",
      "source": [
        "question1 What is hypothesis testing in statistics?\n",
        "\n",
        "Hypothesis testing is a statistical method used to make inferences about a population based on sample data. It involves testing an assumption (hypothesis) about a population parameter using sample data.\n",
        "\n",
        "question2 What is the null hypothesis, and how does it differ from the alternative hypothesis?\n",
        "\n",
        "The null hypothesis (H₀) is a statement that there is no effect or no difference; it assumes the status quo.\n",
        "The alternative hypothesis (H₁ or Ha) is the opposite of the null and suggests there is an effect or difference.\n",
        "\n",
        "question3 What is the significance level in hypothesis testing, and why is it important?\n",
        "\n",
        "The significance level (α) is the probability of rejecting the null hypothesis when it is actually true. Common values are 0.05 (5%) or 0.01 (1%), which indicate the tolerance for Type I errors.\n",
        "\n",
        "question4 What does a P-value represent in hypothesis testing?\n",
        "\n",
        "The P-value is the probability of obtaining test results at least as extreme as the observed data, assuming the null hypothesis is true.\n",
        "\n",
        "question5 How do you interpret the P-value in hypothesis testing?\n",
        "\n",
        "If P ≤ α, reject H₀ (strong evidence against the null).\n",
        "If P > α, fail to reject H₀ (not enough evidence to support the alternative hypothesis).\n",
        "\n",
        "question6 What are Type 1 and Type 2 errors in hypothesis testing?\n",
        "\n",
        "Type 1 Error (False Positive): Rejecting H₀ when it is actually true.\n",
        "Type 2 Error (False Negative): Failing to reject H₀ when it is actually false.\n",
        "\n",
        "question7 What is the difference between a one-tailed and a two-tailed test in hypothesis testing?\n",
        "\n",
        "One-tailed test: Tests for an effect in one specific direction (greater or lesser).\n",
        "Two-tailed test: Tests for an effect in both directions (greater or lesser than a value).\n",
        "\n",
        "question8 What is the Z-test, and when is it used in hypothesis testing?\n",
        "\n",
        "A Z-test is used to compare means when the sample size is large (n > 30) and the population variance is known.\n",
        "\n",
        "question9 How do you calculate the Z-score, and what does it represent in hypothesis testing?\n",
        "\n",
        "𝑍\n",
        "=\n",
        "𝑋\n",
        "−\n",
        "𝜇\n",
        "𝜎\n",
        "/\n",
        "𝑛\n",
        "Z=\n",
        "σ/\n",
        "n\n",
        "​\n",
        "\n",
        "X−μ\n",
        "​\n",
        "\n",
        "where X is the sample mean, μ is the population mean, σ is the population standard deviation, and n is the sample size. The Z-score measures how many standard deviations a data point is from the mean.\n",
        "\n",
        "question10 What is the T-distribution, and when should it be used instead of the normal distribution?\n",
        "\n",
        "The T-distribution is used when the sample size is small (n < 30) and the population standard deviation is unknown.\n",
        "\n",
        "question11 What is the difference between a Z-test and a T-test?\n",
        "\n",
        "Z-test: Used when the population standard deviation is known.\n",
        "T-test: Used when the population standard deviation is unknown and must be estimated from the sample.\n",
        "\n",
        "question12 What is the T-test, and how is it used in hypothesis testing?\n",
        "\n",
        "A T-test is used to compare means when the sample size is small and the population standard deviation is unknown.\n",
        "\n",
        "question13 What is the relationship between Z-test and T-test in hypothesis testing?\n",
        "\n",
        "Both tests compare means, but the Z-test is for large samples with known variance, while the T-test is for small samples with unknown variance.\n",
        "\n",
        "question14 What is a confidence interval, and how is it used to interpret statistical results?\n",
        "\n",
        "A confidence interval (CI) is a range of values that likely contain the true population parameter. A 95% CI means we are 95% confident that the true mean lies within the interval.\n",
        "\n",
        "question15 What is the margin of error, and how does it affect the confidence interval?\n",
        "\n",
        "The margin of error (ME) is the range within which the true parameter is expected to fall. A larger sample size reduces the margin of error, making the confidence interval narrower.\n",
        "\n",
        "question16 How is Bayes' Theorem used in statistics, and what is its significance?\n",
        "\n",
        "Bayes' Theorem describes how to update probabilities based on new evidence. It is widely used in machine learning, spam filtering, and medical diagnosis.\n",
        "\n",
        "question17 What is the Chi-square distribution, and when is it used?\n",
        "\n",
        "The Chi-square (χ²) distribution is used in categorical data analysis, particularly for tests of independence and goodness of fit.\n",
        "\n",
        "question18 What is the Chi-square goodness of fit test, and how is it applied?\n",
        "\n",
        "The Chi-square goodness of fit test checks if an observed categorical distribution fits an expected distribution.\n",
        "\n",
        "question19 What is the F-distribution, and when is it used in hypothesis testing?\n",
        "\n",
        "The F-distribution is used in variance analysis, particularly in ANOVA and regression tests.\n",
        "\n",
        "question20 What is an ANOVA test, and what are its assumptions?\n",
        "\n",
        "Analysis of Variance (ANOVA) tests differences between three or more group means. Assumptions include:\n",
        "\n",
        "Normality of data\n",
        "Homogeneity of variance\n",
        "Independence of observations\n",
        "\n",
        "question21 What are the different types of ANOVA tests?\n",
        "\n",
        "One-way ANOVA: Compares means across one factor.\n",
        "Two-way ANOVA: Compares means across two factors.\n",
        "Repeated Measures ANOVA: Compares means when the same subjects are measured multiple times.\n",
        "\n",
        "question22 What is the F-test, and how does it relate to hypothesis testing?\n",
        "\n",
        "The F-test compares variances to determine if they are significantly different, commonly used in ANOVA and regression analysis.\n",
        "\n"
      ],
      "metadata": {
        "id": "PhebIc_XyIkZ"
      }
    },
    {
      "cell_type": "code",
      "source": [
        "# practical question\n",
        "\n"
      ],
      "metadata": {
        "id": "QFhEL8AYz1fl"
      },
      "execution_count": null,
      "outputs": []
    },
    {
      "cell_type": "code",
      "source": [
        "#question1\n",
        "import numpy as np\n",
        "import scipy.stats as stats\n",
        "\n",
        "def one_sample_z_test(sample, pop_mean, pop_std, alpha=0.05):\n",
        "    \"\"\"\n",
        "    Perform a one-sample Z-test to compare the sample mean with a known population mean.\n",
        "\n",
        "    Parameters:\n",
        "    sample (array-like): Sample data\n",
        "    pop_mean (float): Population mean\n",
        "    pop_std (float): Population standard deviation\n",
        "    alpha (float): Significance level (default is 0.05)\n",
        "\n",
        "    Returns:\n",
        "    None (Prints the Z-score, P-value, and hypothesis test result)\n",
        "    \"\"\"\n",
        "    sample_mean = np.mean(sample)\n",
        "    sample_size = len(sample)\n",
        "\n",
        "    # Calculate Z-score\n",
        "    z_score = (sample_mean - pop_mean) / (pop_std / np.sqrt(sample_size))\n",
        "\n",
        "    # Calculate P-value (two-tailed test)\n",
        "    p_value = 2 * (1 - stats.norm.cdf(abs(z_score)))\n",
        "\n",
        "    # Print results\n",
        "    print(f\"Sample Mean: {sample_mean:.4f}\")\n",
        "    print(f\"Z-score: {z_score:.4f}\")\n",
        "    print(f\"P-value: {p_value:.4f}\")\n",
        "\n",
        "    # Interpret results\n",
        "    if p_value < alpha:\n",
        "        print(\"Conclusion: Reject the null hypothesis (H0)\")\n",
        "    else:\n",
        "        print(\"Conclusion: Fail to reject the null hypothesis (H0)\")\n",
        "\n",
        "# Example usage\n",
        "np.random.seed(42)\n",
        "sample_data = np.random.normal(loc=100, scale=15, size=30)  # Simulating sample data\n",
        "pop_mean = 105  # Given population mean\n",
        "pop_std = 15    # Given population standard deviation\n",
        "\n",
        "print(\"Performing One-Sample Z-Test:\")\n",
        "one_sample_z_test(sample_data, pop_mean, pop_std)\n"
      ],
      "metadata": {
        "colab": {
          "base_uri": "https://localhost:8080/"
        },
        "id": "HWGswilI1DRJ",
        "outputId": "2cbd39fc-25b8-40e2-ac62-dc99129a7d84"
      },
      "execution_count": 1,
      "outputs": [
        {
          "output_type": "stream",
          "name": "stdout",
          "text": [
            "Performing One-Sample Z-Test:\n",
            "Sample Mean: 97.1778\n",
            "Z-score: -2.8563\n",
            "P-value: 0.0043\n",
            "Conclusion: Reject the null hypothesis (H0)\n"
          ]
        }
      ]
    },
    {
      "cell_type": "code",
      "source": [
        "#question2\n",
        "import numpy as np\n",
        "import scipy.stats as stats\n",
        "\n",
        "# Simulate random data\n",
        "np.random.seed(42)\n",
        "sample = np.random.normal(loc=100, scale=15, size=30)  # Sample data\n",
        "\n",
        "# Perform one-sample T-test (assuming population standard deviation is unknown)\n",
        "pop_mean = 105\n",
        "t_stat, p_value = stats.ttest_1samp(sample, pop_mean)\n",
        "\n",
        "print(f\"T-statistic: {t_stat:.4f}\")\n",
        "print(f\"P-value: {p_value:.4f}\")\n",
        "\n",
        "# Interpretation\n",
        "if p_value < 0.05:\n",
        "    print(\"Reject the null hypothesis (H0)\")\n",
        "else:\n",
        "    print(\"Fail to reject the null hypothesis (H0)\")\n"
      ],
      "metadata": {
        "colab": {
          "base_uri": "https://localhost:8080/"
        },
        "id": "Xs8DeeNb1pXw",
        "outputId": "4469daef-b11c-43a5-983f-0f3671f277a6"
      },
      "execution_count": 9,
      "outputs": [
        {
          "output_type": "stream",
          "name": "stdout",
          "text": [
            "T-statistic: -3.1736\n",
            "P-value: 0.0035\n",
            "Reject the null hypothesis (H0)\n"
          ]
        }
      ]
    },
    {
      "cell_type": "code",
      "source": [
        "#question4\n",
        "import matplotlib.pyplot as plt\n",
        "import numpy as np\n",
        "import scipy.stats as stats\n",
        "\n",
        "def visualize_z_test(z_score, alpha=0.05):\n",
        "    x = np.linspace(-4, 4, 1000)\n",
        "    y = stats.norm.pdf(x)\n",
        "\n",
        "    plt.figure(figsize=(8, 5))\n",
        "    plt.plot(x, y, label=\"Normal Distribution\")\n",
        "\n",
        "    # Critical value for two-tailed test\n",
        "    z_critical = stats.norm.ppf(1 - alpha/2)\n",
        "\n",
        "    # Shade rejection regions\n",
        "    plt.fill_between(x, y, where=(x < -z_critical) | (x > z_critical), color='red', alpha=0.3, label=\"Rejection Region\")\n",
        "\n",
        "    # Plot observed Z-score\n",
        "    plt.axvline(z_score, color='blue', linestyle='dashed', label=f\"Z-score = {z_score:.2f}\")\n",
        "\n",
        "    plt.xlabel(\"Z-score\")\n",
        "    plt.ylabel(\"Probability Density\")\n",
        "    plt.title(\"Two-Tailed Z-Test Decision Region\")\n",
        "    plt.legend()\n",
        "    plt.show()\n",
        "\n",
        "# Example usage\n",
        "z_score = 2.1  # Example Z-score\n",
        "visualize_z_test(z_score)\n"
      ],
      "metadata": {
        "colab": {
          "base_uri": "https://localhost:8080/",
          "height": 487
        },
        "id": "95r1-YcK1pdA",
        "outputId": "63b0ce41-1293-44b7-88b2-512a672af981"
      },
      "execution_count": 8,
      "outputs": [
        {
          "output_type": "display_data",
          "data": {
            "text/plain": [
              "<Figure size 800x500 with 1 Axes>"
            ],
            "image/png": "[encoded data removed]"
          },
          "metadata": {}
        }
      ]
    },
    {
      "cell_type": "code",
      "source": [
        "#question5\n",
        "def visualize_type1_type2(beta=0.2, alpha=0.05):\n",
        "    x = np.linspace(-4, 4, 1000)\n",
        "    y_null = stats.norm.pdf(x)\n",
        "    y_alt = stats.norm.pdf(x - 1.5)  # Shift alternative distribution\n",
        "\n",
        "    plt.figure(figsize=(8, 5))\n",
        "    plt.plot(x, y_null, label=\"Null Distribution (H0)\")\n",
        "    plt.plot(x, y_alt, label=\"Alternative Distribution (H1)\", linestyle=\"dashed\")\n",
        "\n",
        "    z_critical = stats.norm.ppf(1 - alpha)\n",
        "\n",
        "    # Shade Type 1 error\n",
        "    plt.fill_between(x, y_null, where=(x > z_critical), color='red', alpha=0.3, label=\"Type 1 Error (α)\")\n",
        "\n",
        "    # Shade Type 2 error\n",
        "    plt.fill_between(x, y_alt, where=(x < z_critical), color='blue', alpha=0.3, label=\"Type 2 Error (β)\")\n",
        "\n",
        "    plt.axvline(z_critical, color='black', linestyle='dashed', label=\"Critical Value\")\n",
        "\n",
        "    plt.xlabel(\"Z-score\")\n",
        "    plt.ylabel(\"Probability Density\")\n",
        "    plt.title(\"Type 1 and Type 2 Errors in Hypothesis Testing\")\n",
        "    plt.legend()\n",
        "    plt.show()\n",
        "\n",
        "visualize_type1_type2()\n"
      ],
      "metadata": {
        "colab": {
          "base_uri": "https://localhost:8080/",
          "height": 309
        },
        "id": "lVJcrbkH1pgT",
        "outputId": "52a14f08-ff91-4d20-bf0a-7d1df29b45aa"
      },
      "execution_count": 7,
      "outputs": [
        {
          "output_type": "error",
          "ename": "NameError",
          "evalue": "name 'plt' is not defined",
          "traceback": [
            "\u001b[0;31m---------------------------------------------------------------------------\u001b[0m",
            "\u001b[0;31mNameError\u001b[0m                                 Traceback (most recent call last)",
            "\u001b[0;32m<ipython-input-7-29c2ee51c236>\u001b[0m in \u001b[0;36m<cell line: 0>\u001b[0;34m()\u001b[0m\n\u001b[1;32m     25\u001b[0m     \u001b[0mplt\u001b[0m\u001b[0;34m.\u001b[0m\u001b[0mshow\u001b[0m\u001b[0;34m(\u001b[0m\u001b[0;34m)\u001b[0m\u001b[0;34m\u001b[0m\u001b[0;34m\u001b[0m\u001b[0m\n\u001b[1;32m     26\u001b[0m \u001b[0;34m\u001b[0m\u001b[0m\n\u001b[0;32m---> 27\u001b[0;31m \u001b[0mvisualize_type1_type2\u001b[0m\u001b[0;34m(\u001b[0m\u001b[0;34m)\u001b[0m\u001b[0;34m\u001b[0m\u001b[0;34m\u001b[0m\u001b[0m\n\u001b[0m",
            "\u001b[0;32m<ipython-input-7-29c2ee51c236>\u001b[0m in \u001b[0;36mvisualize_type1_type2\u001b[0;34m(beta, alpha)\u001b[0m\n\u001b[1;32m      5\u001b[0m     \u001b[0my_alt\u001b[0m \u001b[0;34m=\u001b[0m \u001b[0mstats\u001b[0m\u001b[0;34m.\u001b[0m\u001b[0mnorm\u001b[0m\u001b[0;34m.\u001b[0m\u001b[0mpdf\u001b[0m\u001b[0;34m(\u001b[0m\u001b[0mx\u001b[0m \u001b[0;34m-\u001b[0m \u001b[0;36m1.5\u001b[0m\u001b[0;34m)\u001b[0m  \u001b[0;31m# Shift alternative distribution\u001b[0m\u001b[0;34m\u001b[0m\u001b[0;34m\u001b[0m\u001b[0m\n\u001b[1;32m      6\u001b[0m \u001b[0;34m\u001b[0m\u001b[0m\n\u001b[0;32m----> 7\u001b[0;31m     \u001b[0mplt\u001b[0m\u001b[0;34m.\u001b[0m\u001b[0mfigure\u001b[0m\u001b[0;34m(\u001b[0m\u001b[0mfigsize\u001b[0m\u001b[0;34m=\u001b[0m\u001b[0;34m(\u001b[0m\u001b[0;36m8\u001b[0m\u001b[0;34m,\u001b[0m \u001b[0;36m5\u001b[0m\u001b[0;34m)\u001b[0m\u001b[0;34m)\u001b[0m\u001b[0;34m\u001b[0m\u001b[0;34m\u001b[0m\u001b[0m\n\u001b[0m\u001b[1;32m      8\u001b[0m     \u001b[0mplt\u001b[0m\u001b[0;34m.\u001b[0m\u001b[0mplot\u001b[0m\u001b[0;34m(\u001b[0m\u001b[0mx\u001b[0m\u001b[0;34m,\u001b[0m \u001b[0my_null\u001b[0m\u001b[0;34m,\u001b[0m \u001b[0mlabel\u001b[0m\u001b[0;34m=\u001b[0m\u001b[0;34m\"Null Distribution (H0)\"\u001b[0m\u001b[0;34m)\u001b[0m\u001b[0;34m\u001b[0m\u001b[0;34m\u001b[0m\u001b[0m\n\u001b[1;32m      9\u001b[0m     \u001b[0mplt\u001b[0m\u001b[0;34m.\u001b[0m\u001b[0mplot\u001b[0m\u001b[0;34m(\u001b[0m\u001b[0mx\u001b[0m\u001b[0;34m,\u001b[0m \u001b[0my_alt\u001b[0m\u001b[0;34m,\u001b[0m \u001b[0mlabel\u001b[0m\u001b[0;34m=\u001b[0m\u001b[0;34m\"Alternative Distribution (H1)\"\u001b[0m\u001b[0;34m,\u001b[0m \u001b[0mlinestyle\u001b[0m\u001b[0;34m=\u001b[0m\u001b[0;34m\"dashed\"\u001b[0m\u001b[0;34m)\u001b[0m\u001b[0;34m\u001b[0m\u001b[0;34m\u001b[0m\u001b[0m\n",
            "\u001b[0;31mNameError\u001b[0m: name 'plt' is not defined"
          ]
        }
      ]
    },
    {
      "cell_type": "code",
      "source": [
        "#question6\n",
        "np.random.seed(42)\n",
        "group1 = np.random.normal(100, 15, 30)\n",
        "group2 = np.random.normal(105, 15, 30)\n",
        "\n",
        "t_stat, p_value = stats.ttest_ind(group1, group2)\n",
        "\n",
        "print(f\"T-statistic: {t_stat:.4f}\")\n",
        "print(f\"P-value: {p_value:.4f}\")\n",
        "\n",
        "if p_value < 0.05:\n",
        "    print(\"Reject the null hypothesis (H0)\")\n",
        "else:\n",
        "    print(\"Fail to reject the null hypothesis (H0)\")\n"
      ],
      "metadata": {
        "colab": {
          "base_uri": "https://localhost:8080/"
        },
        "id": "QjwH_v-p1pi4",
        "outputId": "242caa58-2982-42c8-b99e-0d53cf710696"
      },
      "execution_count": 6,
      "outputs": [
        {
          "output_type": "stream",
          "name": "stdout",
          "text": [
            "T-statistic: -1.6932\n",
            "P-value: 0.0958\n",
            "Fail to reject the null hypothesis (H0)\n"
          ]
        }
      ]
    },
    {
      "cell_type": "code",
      "source": [
        "#question7\n",
        "before = np.random.normal(100, 10, 30)\n",
        "after = before + np.random.normal(5, 5, 30)  # Adding an effect\n",
        "\n",
        "t_stat, p_value = stats.ttest_rel(before, after)\n",
        "\n",
        "print(f\"Paired T-statistic: {t_stat:.4f}\")\n",
        "print(f\"P-value: {p_value:.4f}\")\n",
        "\n",
        "if p_value < 0.05:\n",
        "    print(\"Reject the null hypothesis (H0)\")\n",
        "else:\n",
        "    print(\"Fail to reject the null hypothesis (H0)\")\n",
        "\n",
        "plt.figure(figsize=(6, 4))\n",
        "plt.scatter(before, after, label=\"Before vs After\", color=\"blue\")\n",
        "plt.plot([80, 120], [80, 120], linestyle=\"dashed\", color=\"red\", label=\"No Change\")\n",
        "plt.xlabel(\"Before Treatment\")\n",
        "plt.ylabel(\"After Treatment\")\n",
        "plt.title(\"Paired Sample Comparison\")\n",
        "plt.legend()\n",
        "plt.show()\n"
      ],
      "metadata": {
        "colab": {
          "base_uri": "https://localhost:8080/",
          "height": 273
        },
        "id": "HRGNNySf1pmX",
        "outputId": "0280d09f-8561-42ec-f641-a5227082894e"
      },
      "execution_count": 5,
      "outputs": [
        {
          "output_type": "stream",
          "name": "stdout",
          "text": [
            "Paired T-statistic: -5.5926\n",
            "P-value: 0.0000\n",
            "Reject the null hypothesis (H0)\n"
          ]
        },
        {
          "output_type": "error",
          "ename": "NameError",
          "evalue": "name 'plt' is not defined",
          "traceback": [
            "\u001b[0;31m---------------------------------------------------------------------------\u001b[0m",
            "\u001b[0;31mNameError\u001b[0m                                 Traceback (most recent call last)",
            "\u001b[0;32m<ipython-input-5-f15230473d9a>\u001b[0m in \u001b[0;36m<cell line: 0>\u001b[0;34m()\u001b[0m\n\u001b[1;32m     13\u001b[0m     \u001b[0mprint\u001b[0m\u001b[0;34m(\u001b[0m\u001b[0;34m\"Fail to reject the null hypothesis (H0)\"\u001b[0m\u001b[0;34m)\u001b[0m\u001b[0;34m\u001b[0m\u001b[0;34m\u001b[0m\u001b[0m\n\u001b[1;32m     14\u001b[0m \u001b[0;34m\u001b[0m\u001b[0m\n\u001b[0;32m---> 15\u001b[0;31m \u001b[0mplt\u001b[0m\u001b[0;34m.\u001b[0m\u001b[0mfigure\u001b[0m\u001b[0;34m(\u001b[0m\u001b[0mfigsize\u001b[0m\u001b[0;34m=\u001b[0m\u001b[0;34m(\u001b[0m\u001b[0;36m6\u001b[0m\u001b[0;34m,\u001b[0m \u001b[0;36m4\u001b[0m\u001b[0;34m)\u001b[0m\u001b[0;34m)\u001b[0m\u001b[0;34m\u001b[0m\u001b[0;34m\u001b[0m\u001b[0m\n\u001b[0m\u001b[1;32m     16\u001b[0m \u001b[0mplt\u001b[0m\u001b[0;34m.\u001b[0m\u001b[0mscatter\u001b[0m\u001b[0;34m(\u001b[0m\u001b[0mbefore\u001b[0m\u001b[0;34m,\u001b[0m \u001b[0mafter\u001b[0m\u001b[0;34m,\u001b[0m \u001b[0mlabel\u001b[0m\u001b[0;34m=\u001b[0m\u001b[0;34m\"Before vs After\"\u001b[0m\u001b[0;34m,\u001b[0m \u001b[0mcolor\u001b[0m\u001b[0;34m=\u001b[0m\u001b[0;34m\"blue\"\u001b[0m\u001b[0;34m)\u001b[0m\u001b[0;34m\u001b[0m\u001b[0;34m\u001b[0m\u001b[0m\n\u001b[1;32m     17\u001b[0m \u001b[0mplt\u001b[0m\u001b[0;34m.\u001b[0m\u001b[0mplot\u001b[0m\u001b[0;34m(\u001b[0m\u001b[0;34m[\u001b[0m\u001b[0;36m80\u001b[0m\u001b[0;34m,\u001b[0m \u001b[0;36m120\u001b[0m\u001b[0;34m]\u001b[0m\u001b[0;34m,\u001b[0m \u001b[0;34m[\u001b[0m\u001b[0;36m80\u001b[0m\u001b[0;34m,\u001b[0m \u001b[0;36m120\u001b[0m\u001b[0;34m]\u001b[0m\u001b[0;34m,\u001b[0m \u001b[0mlinestyle\u001b[0m\u001b[0;34m=\u001b[0m\u001b[0;34m\"dashed\"\u001b[0m\u001b[0;34m,\u001b[0m \u001b[0mcolor\u001b[0m\u001b[0;34m=\u001b[0m\u001b[0;34m\"red\"\u001b[0m\u001b[0;34m,\u001b[0m \u001b[0mlabel\u001b[0m\u001b[0;34m=\u001b[0m\u001b[0;34m\"No Change\"\u001b[0m\u001b[0;34m)\u001b[0m\u001b[0;34m\u001b[0m\u001b[0;34m\u001b[0m\u001b[0m\n",
            "\u001b[0;31mNameError\u001b[0m: name 'plt' is not defined"
          ]
        }
      ]
    },
    {
      "cell_type": "code",
      "source": [
        "#question8\n",
        "np.random.seed(42)\n",
        "sample_data = np.random.normal(100, 15, 30)\n",
        "\n",
        "# Z-test\n",
        "pop_mean = 105\n",
        "pop_std = 15\n",
        "z_score = (np.mean(sample_data) - pop_mean) / (pop_std / np.sqrt(len(sample_data)))\n",
        "z_p_value = 2 * (1 - stats.norm.cdf(abs(z_score)))\n",
        "\n",
        "# T-test\n",
        "t_stat, t_p_value = stats.ttest_1samp(sample_data, pop_mean)\n",
        "\n",
        "print(f\"Z-Test P-value: {z_p_value:.4f}\")\n",
        "print(f\"T-Test P-value: {t_p_value:.4f}\")\n"
      ],
      "metadata": {
        "colab": {
          "base_uri": "https://localhost:8080/"
        },
        "id": "5GHfjpKN19kf",
        "outputId": "f5bd5c1a-4988-42bb-cfb3-0e0aa9377839"
      },
      "execution_count": 4,
      "outputs": [
        {
          "output_type": "stream",
          "name": "stdout",
          "text": [
            "Z-Test P-value: 0.0043\n",
            "T-Test P-value: 0.0035\n"
          ]
        }
      ]
    },
    {
      "cell_type": "code",
      "source": [
        "#question9\n",
        "def confidence_interval(sample, confidence=0.95):\n",
        "    sample_mean = np.mean(sample)\n",
        "    sample_std = np.std(sample, ddof=1)  # Sample standard deviation\n",
        "    sample_size = len(sample)\n",
        "\n",
        "    margin_error = stats.t.ppf((1 + confidence) / 2, df=sample_size-1) * (sample_std / np.sqrt(sample_size))\n",
        "    ci_lower = sample_mean - margin_error\n",
        "    ci_upper = sample_mean + margin_error\n",
        "\n",
        "    print(f\"{confidence*100:.0f}% Confidence Interval: ({ci_lower:.4f}, {ci_upper:.4f})\")\n",
        "\n",
        "# Example\n",
        "sample_data = np.random.normal(100, 15, 30)\n",
        "confidence_interval(sample_data)\n"
      ],
      "metadata": {
        "colab": {
          "base_uri": "https://localhost:8080/"
        },
        "id": "wb-26gHx1_7C",
        "outputId": "edf3ebf8-aac6-436b-daec-916a7462208d"
      },
      "execution_count": 17,
      "outputs": [
        {
          "output_type": "stream",
          "name": "stdout",
          "text": [
            "95% Confidence Interval: (92.8392, 104.3120)\n"
          ]
        }
      ]
    },
    {
      "cell_type": "code",
      "source": [
        "#question10\n",
        "import numpy as np\n",
        "import scipy.stats as stats\n",
        "\n",
        "def margin_of_error(sample, confidence=0.95):\n",
        "    sample_std = np.std(sample, ddof=1)  # Sample standard deviation\n",
        "    sample_size = len(sample)\n",
        "\n",
        "    # Critical value (t-distribution for small samples)\n",
        "    critical_value = stats.t.ppf((1 + confidence) / 2, df=sample_size-1)\n",
        "\n",
        "    # Margin of Error\n",
        "    moe = critical_value * (sample_std / np.sqrt(sample_size))\n",
        "\n",
        "    print(f\"Margin of Error ({confidence*100:.0f}% confidence): {moe:.4f}\")\n",
        "\n",
        "# Example usage\n",
        "sample_data = np.random.normal(100, 15, 30)\n",
        "margin_of_error(sample_data)\n"
      ],
      "metadata": {
        "colab": {
          "base_uri": "https://localhost:8080/"
        },
        "id": "P5oz43Ni2dnZ",
        "outputId": "2fab1bce-f14f-46c3-af07-690d0d25dba3"
      },
      "execution_count": 16,
      "outputs": [
        {
          "output_type": "stream",
          "name": "stdout",
          "text": [
            "Margin of Error (95% confidence): 5.0904\n"
          ]
        }
      ]
    },
    {
      "cell_type": "code",
      "source": [
        "#question11\n",
        "def bayes_theorem(prior, likelihood, marginal_likelihood):\n",
        "    posterior = (likelihood * prior) / marginal_likelihood\n",
        "    return posterior\n",
        "\n",
        "# Example: Diagnosing a disease\n",
        "prior = 0.01  # Probability of having the disease\n",
        "likelihood = 0.95  # Sensitivity (True Positive Rate)\n",
        "false_positive_rate = 0.05\n",
        "marginal_likelihood = (likelihood * prior) + (false_positive_rate * (1 - prior))\n",
        "\n",
        "posterior = bayes_theorem(prior, likelihood, marginal_likelihood)\n",
        "print(f\"Posterior Probability: {posterior:.4f}\")\n"
      ],
      "metadata": {
        "colab": {
          "base_uri": "https://localhost:8080/"
        },
        "id": "MH8WWozj2dxT",
        "outputId": "1058e0f7-98de-47dd-c2d5-43778a973482"
      },
      "execution_count": 15,
      "outputs": [
        {
          "output_type": "stream",
          "name": "stdout",
          "text": [
            "Posterior Probability: 0.1610\n"
          ]
        }
      ]
    },
    {
      "cell_type": "code",
      "source": [
        "#question12\n",
        "import pandas as pd\n",
        "import scipy.stats as stats\n",
        "\n",
        "# Simulate categorical data\n",
        "observed = np.array([[50, 30], [20, 40]])\n",
        "\n",
        "# Perform Chi-Square test\n",
        "chi2, p, dof, expected = stats.chi2_contingency(observed)\n",
        "\n",
        "print(f\"Chi-Square Statistic: {chi2:.4f}\")\n",
        "print(f\"P-value: {p:.4f}\")\n",
        "print(f\"Degrees of Freedom: {dof}\")\n",
        "print(\"Expected Frequencies:\\n\", expected)\n",
        "\n",
        "if p < 0.05:\n",
        "    print(\"Reject the null hypothesis (Variables are dependent)\")\n",
        "else:\n",
        "    print(\"Fail to reject the null hypothesis (No significant relationship)\")\n"
      ],
      "metadata": {
        "colab": {
          "base_uri": "https://localhost:8080/"
        },
        "id": "VuJcAO3H2lgk",
        "outputId": "603c5bac-a57c-4c87-e399-c51fa4d4b68d"
      },
      "execution_count": 14,
      "outputs": [
        {
          "output_type": "stream",
          "name": "stdout",
          "text": [
            "Chi-Square Statistic: 10.5292\n",
            "P-value: 0.0012\n",
            "Degrees of Freedom: 1\n",
            "Expected Frequencies:\n",
            " [[40. 40.]\n",
            " [30. 30.]]\n",
            "Reject the null hypothesis (Variables are dependent)\n"
          ]
        }
      ]
    },
    {
      "cell_type": "code",
      "source": [
        "#question13\n",
        "def calculate_expected(observed):\n",
        "    row_totals = observed.sum(axis=1).reshape(-1, 1)\n",
        "    col_totals = observed.sum(axis=0).reshape(1, -1)\n",
        "    grand_total = observed.sum()\n",
        "\n",
        "    expected = (row_totals @ col_totals) / grand_total\n",
        "    return expected\n",
        "\n",
        "observed_data = np.array([[50, 30], [20, 40]])\n",
        "expected_frequencies = calculate_expected(observed_data)\n",
        "print(\"Expected Frequencies:\\n\", expected_frequencies)\n"
      ],
      "metadata": {
        "colab": {
          "base_uri": "https://localhost:8080/"
        },
        "id": "ep8bkTXR2ln2",
        "outputId": "be50efb2-a91c-42d6-b9ec-bbd3b286afc5"
      },
      "execution_count": 13,
      "outputs": [
        {
          "output_type": "stream",
          "name": "stdout",
          "text": [
            "Expected Frequencies:\n",
            " [[40. 40.]\n",
            " [30. 30.]]\n"
          ]
        }
      ]
    },
    {
      "cell_type": "code",
      "source": [
        "#question14\n",
        "observed_counts = np.array([50, 30, 20])\n",
        "expected_counts = np.array([40, 40, 20])  # Expected distribution\n",
        "\n",
        "chi2, p = stats.chisquare(observed_counts, expected_counts)\n",
        "\n",
        "print(f\"Chi-Square Statistic: {chi2:.4f}\")\n",
        "print(f\"P-value: {p:.4f}\")\n",
        "\n",
        "if p < 0.05:\n",
        "    print(\"Reject the null hypothesis (Observed data differs significantly)\")\n",
        "else:\n",
        "    print(\"Fail to reject the null hypothesis (No significant difference)\")\n"
      ],
      "metadata": {
        "colab": {
          "base_uri": "https://localhost:8080/"
        },
        "id": "uDzVAGkZ2lqZ",
        "outputId": "d97eaf29-6a26-45f3-960d-9158d8f96c7b"
      },
      "execution_count": 12,
      "outputs": [
        {
          "output_type": "stream",
          "name": "stdout",
          "text": [
            "Chi-Square Statistic: 5.0000\n",
            "P-value: 0.0821\n",
            "Fail to reject the null hypothesis (No significant difference)\n"
          ]
        }
      ]
    },
    {
      "cell_type": "code",
      "source": [
        "#question15\n",
        "import matplotlib.pyplot as plt\n",
        "\n",
        "df = 5  # Degrees of freedom\n",
        "x = np.linspace(0, 20, 1000)\n",
        "y = stats.chi2.pdf(x, df)\n",
        "\n",
        "plt.figure(figsize=(8, 5))\n",
        "plt.plot(x, y, label=f\"Chi-Square Distribution (df={df})\", color='blue')\n",
        "plt.fill_between(x, y, alpha=0.3, color='blue')\n",
        "plt.xlabel(\"Chi-Square Statistic\")\n",
        "plt.ylabel(\"Probability Density\")\n",
        "plt.title(\"Chi-Square Distribution\")\n",
        "plt.legend()\n",
        "plt.show()\n"
      ],
      "metadata": {
        "colab": {
          "base_uri": "https://localhost:8080/",
          "height": 487
        },
        "id": "HUEZVGSC2luz",
        "outputId": "d3a2a93a-c412-47fa-cba5-2e988633a97a"
      },
      "execution_count": 11,
      "outputs": [
        {
          "output_type": "display_data",
          "data": {
            "text/plain": [
              "<Figure size 800x500 with 1 Axes>"
            ],
            "image/png": "[encoded data removed]"
          },
          "metadata": {}
        }
      ]
    },
    {
      "cell_type": "code",
      "source": [
        "#question16\n",
        "sample1 = np.random.normal(100, 15, 30)\n",
        "sample2 = np.random.normal(105, 20, 30)\n",
        "\n",
        "var1 = np.var(sample1, ddof=1)\n",
        "var2 = np.var(sample2, ddof=1)\n",
        "\n",
        "f_stat = var1 / var2\n",
        "p_value = stats.f.cdf(f_stat, len(sample1)-1, len(sample2)-1)\n",
        "\n",
        "print(f\"F-Statistic: {f_stat:.4f}\")\n",
        "print(f\"P-value: {p_value:.4f}\")\n",
        "\n",
        "if p_value < 0.05:\n",
        "    print(\"Reject the null hypothesis (Variances are significantly different)\")\n",
        "else:\n",
        "    print(\"Fail to reject the null hypothesis (No significant difference in variances)\")\n"
      ],
      "metadata": {
        "colab": {
          "base_uri": "https://localhost:8080/"
        },
        "id": "sxtOwyU72lyZ",
        "outputId": "ff7a1908-2664-4680-cd0a-5c295a8a92c8"
      },
      "execution_count": 10,
      "outputs": [
        {
          "output_type": "stream",
          "name": "stdout",
          "text": [
            "F-Statistic: 0.4956\n",
            "P-value: 0.0318\n",
            "Reject the null hypothesis (Variances are significantly different)\n"
          ]
        }
      ]
    }
  ]
}